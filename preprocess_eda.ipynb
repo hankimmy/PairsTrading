{
 "cells": [
  {
   "metadata": {},
   "cell_type": "markdown",
   "source": "Run Engle Granger two stock test on",
   "id": "e1a2350f9c9cc273"
  },
  {
   "metadata": {},
   "cell_type": "code",
   "source": [
    "import yfinance as yf\n",
    "from statsmodels.tsa.stattools import coint\n",
    "import itertools\n",
    "import warnings\n",
    "warnings.filterwarnings(\"ignore\")\n",
    "\n",
    "semi_tickers = [\n",
    "    'NVDA', 'AMD', 'TSM', 'INTC', 'ASML', 'AVGO', 'QCOM', 'TXN',\n",
    "    'MU', 'LRCX', 'MRVL', 'ON', 'MPWR', 'KLAC', 'SWKS'\n",
    "]\n",
    "\n",
    "prices = yf.download(semi_tickers, start='2024-01-01', end='2024-12-31', auto_adjust=False)['Adj Close'].dropna()\n",
    "\n",
    "results = []\n",
    "for a, b in itertools.combinations(semi_tickers, 2):\n",
    "    pa, pb = prices[a], prices[b]\n",
    "    min_len = min(len(pa), len(pb))\n",
    "    if min_len == 0:\n",
    "        continue\n",
    "    score, pvalue, _ = coint(pa, pb)\n",
    "    results.append((a, b, pvalue))\n",
    "\n",
    "results.sort(key=lambda x: x[2])\n",
    "print(\"Top 10 cointegrated pairs (lowest p-value):\")\n",
    "for a, b, pval in results[:10]:\n",
    "    print(f\"{a} vs {b}: p-value={pval:.4f}\")\n"
   ],
   "id": "initial_id",
   "outputs": [],
   "execution_count": null
  },
  {
   "metadata": {},
   "cell_type": "code",
   "outputs": [
    {
     "name": "stderr",
     "output_type": "stream",
     "text": [
      "[*********************100%***********************]  2 of 2 completed\n"
     ]
    }
   ],
   "execution_count": 3,
   "source": [
    "stock_y = 'TSM'\n",
    "stock_x = 'NVDA'\n",
    "tickers = [stock_x, stock_y]\n",
    "prices = yf.download(tickers, start='2024-01-01', end='2024-12-31', auto_adjust=False)['Adj Close'].dropna()"
   ],
   "id": "faa6758c642cc576"
  },
  {
   "metadata": {},
   "cell_type": "code",
   "outputs": [
    {
     "name": "stdout",
     "output_type": "stream",
     "text": [
      "Hedge ratio (beta): 0.9345\n"
     ]
    }
   ],
   "execution_count": 7,
   "source": [
    "import statsmodels.api as sm\n",
    "\n",
    "Y = prices[stock_y]\n",
    "X = prices[stock_x]\n",
    "X_const = sm.add_constant(Y)\n",
    "model = sm.OLS(X, X_const)\n",
    "result = model.fit()\n",
    "beta = result.params[1]\n",
    "print(f\"Hedge ratio (beta): {beta:.4f}\")"
   ],
   "id": "b30a01c824bc5b20"
  },
  {
   "metadata": {},
   "cell_type": "code",
   "source": [
    "import matplotlib.pyplot as plt\n",
    "\n",
    "spread = X - beta * Y\n",
    "spread_mean = spread.mean()\n",
    "spread_std = spread.std()\n",
    "zscore = (spread - spread_mean) / spread_std\n",
    "\n",
    "plt.figure(figsize=(14,5))\n",
    "plt.plot(zscore, label='Spread z-score')\n",
    "plt.axhline(1, color='red', linestyle='--', label='Entry/Exit Threshold')\n",
    "plt.axhline(-1, color='green', linestyle='--')\n",
    "plt.axhline(0, color='black', linestyle=':')\n",
    "plt.title('Z-score of the Spread (NVDA - beta * AMD)')\n",
    "plt.legend()\n",
    "plt.show()"
   ],
   "id": "f98e9b48d42b5f6",
   "outputs": [],
   "execution_count": null
  },
  {
   "metadata": {},
   "cell_type": "code",
   "outputs": [],
   "source": "",
   "id": "64967ceba5ab8e9b",
   "execution_count": null
  }
 ],
 "metadata": {
  "kernelspec": {
   "display_name": "Python 3",
   "language": "python",
   "name": "python3"
  },
  "language_info": {
   "codemirror_mode": {
    "name": "ipython",
    "version": 2
   },
   "file_extension": ".py",
   "mimetype": "text/x-python",
   "name": "python",
   "nbconvert_exporter": "python",
   "pygments_lexer": "ipython2",
   "version": "2.7.6"
  }
 },
 "nbformat": 4,
 "nbformat_minor": 5
}
